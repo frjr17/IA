{
 "cells": [
  {
   "cell_type": "markdown",
   "id": "0a64be39",
   "metadata": {},
   "source": [
    "# 1. Clasificación de dígitos MNIST con KNeighborsClassifier\n",
    "\n",
    "Este notebook muestra cómo entrenar y evaluar un clasificador KNN sobre el dataset MNIST usando bibliotecas de Python."
   ]
  },
  {
   "cell_type": "markdown",
   "id": "bfdada69",
   "metadata": {},
   "source": [
    "## 2. Importar bibliotecas necesarias\n",
    "\n",
    "Importamos pandas, numpy, time y el clasificador KNeighborsClassifier de scikit-learn."
   ]
  },
  {
   "cell_type": "code",
   "execution_count": 1,
   "id": "f7b28f53",
   "metadata": {},
   "outputs": [],
   "source": [
    "# Importar bibliotecas necesarias\n",
    "import pandas as pd\n",
    "import numpy as np\n",
    "import time\n",
    "from sklearn.neighbors import KNeighborsClassifier"
   ]
  },
  {
   "cell_type": "markdown",
   "id": "f6973609",
   "metadata": {},
   "source": [
    "## 3. Definir parámetros globales\n",
    "\n",
    "Establecemos el número de muestras para entrenamiento y prueba."
   ]
  },
  {
   "cell_type": "code",
   "execution_count": 2,
   "id": "dbcd79c5",
   "metadata": {},
   "outputs": [],
   "source": [
    "# Definir parámetros globales\n",
    "muestras_entrenamiento = 5000  # Número de muestras de entrenamiento\n",
    "muestras_prueba = 10000        # Número de muestras de prueba"
   ]
  },
  {
   "cell_type": "markdown",
   "id": "28b839e8",
   "metadata": {},
   "source": [
    "## 4. Inicializar variables para medir tiempos\n",
    "\n",
    "Estas variables nos permitirán medir el tiempo de entrenamiento y prueba."
   ]
  },
  {
   "cell_type": "code",
   "execution_count": 3,
   "id": "60e529d5",
   "metadata": {},
   "outputs": [],
   "source": [
    "# Inicializar variables para medir tiempos\n",
    "inicio_tiempo_entrenamiento = 0\n",
    "fin_tiempo_entrenamiento = 0\n",
    "tiempo_entrenamiento = 0\n",
    "\n",
    "inicio_tiempo_prueba = 0\n",
    "fin_tiempo_prueba = 0\n",
    "tiempo_prueba = 0"
   ]
  },
  {
   "cell_type": "markdown",
   "id": "e9f7e3f6",
   "metadata": {},
   "source": [
    "## 5. Función para cargar el dataset\n",
    "\n",
    "Esta función lee un archivo CSV y devuelve los datos normalizados y las etiquetas."
   ]
  },
  {
   "cell_type": "code",
   "execution_count": 4,
   "id": "766dc2c6",
   "metadata": {},
   "outputs": [],
   "source": [
    "def cargar_dataset(nombre_archivo, muestras):\n",
    "    \"\"\"\n",
    "    Carga un dataset CSV y devuelve los datos normalizados y las etiquetas.\n",
    "    \"\"\"\n",
    "    x = []  # Datos de entrada\n",
    "    y = []  # Etiquetas\n",
    "    datos = pd.read_csv(nombre_archivo)\n",
    "    y = np.array(datos.iloc[0:muestras, 0])  # Primera columna: etiquetas\n",
    "    x = np.array(datos.iloc[0:muestras, 1:]) / 255  # Normalización\n",
    "    return x, y"
   ]
  },
  {
   "cell_type": "markdown",
   "id": "8b04d786",
   "metadata": {},
   "source": [
    "## 6. Cargar los datos de entrenamiento y prueba\n",
    "\n",
    "Usamos la función definida para cargar los datos."
   ]
  },
  {
   "cell_type": "code",
   "execution_count": 5,
   "id": "ac114416",
   "metadata": {},
   "outputs": [],
   "source": [
    "# Cargar los datos de entrenamiento y prueba\n",
    "x_entrenamiento, y_entrenamiento = cargar_dataset(\"../../datasets/mnist/mnist_train.csv\", muestras_entrenamiento)\n",
    "x_prueba, y_prueba = cargar_dataset(\"../../datasets/mnist/mnist_test.csv\", muestras_prueba)"
   ]
  },
  {
   "cell_type": "markdown",
   "id": "28d1a90e",
   "metadata": {},
   "source": [
    "## 7. Crear y entrenar el modelo KNN\n",
    "\n",
    "Entrenamos el modelo y medimos el tiempo de entrenamiento."
   ]
  },
  {
   "cell_type": "code",
   "execution_count": 6,
   "id": "db1e50dc",
   "metadata": {},
   "outputs": [
    {
     "name": "stdout",
     "output_type": "stream",
     "text": [
      "Tiempo de entrenamiento: 0.02 s\n"
     ]
    }
   ],
   "source": [
    "# Crear y entrenar el modelo KNN\n",
    "knn = KNeighborsClassifier(n_neighbors=3)\n",
    "inicio_tiempo_entrenamiento = time.time()\n",
    "knn.fit(x_entrenamiento, y_entrenamiento)\n",
    "fin_tiempo_entrenamiento = time.time()\n",
    "tiempo_entrenamiento = fin_tiempo_entrenamiento - inicio_tiempo_entrenamiento\n",
    "print(f\"Tiempo de entrenamiento: {tiempo_entrenamiento:.2f} s\")"
   ]
  },
  {
   "cell_type": "markdown",
   "id": "e92a1de4",
   "metadata": {},
   "source": [
    "## 8. Evaluación global rápida del modelo\n",
    "\n",
    "Calculamos la precisión del modelo sobre todo el conjunto de prueba de una sola vez usando `knn.score` y medimos el tiempo de inferencia total."
   ]
  },
  {
   "cell_type": "code",
   "execution_count": 7,
   "id": "7dc67718",
   "metadata": {},
   "outputs": [
    {
     "name": "stdout",
     "output_type": "stream",
     "text": [
      "Precisión global (score): 0.9339\n",
      "Tiempo de inferencia sobre todo el conjunto de prueba: 3.3060 s\n"
     ]
    }
   ],
   "source": [
    "# Evaluación simple sobre todo el conjunto de prueba y cálculo del tiempo de inferencia\n",
    "import time\n",
    "inicio_inferencia = time.time()\n",
    "precision = knn.score(x_prueba, y_prueba)\n",
    "fin_inferencia = time.time()\n",
    "tiempo_inferencia = fin_inferencia - inicio_inferencia\n",
    "print(f\"Precisión global (score): {precision:.4f}\")\n",
    "print(f\"Tiempo de inferencia sobre todo el conjunto de prueba: {tiempo_inferencia:.4f} s\")"
   ]
  },
  {
   "cell_type": "markdown",
   "id": "a8026318",
   "metadata": {},
   "source": [
    "## 9. Evaluar el modelo sobre el dataset de prueba\n",
    "\n",
    "Calculamos la precisión y mostramos resultados para cada muestra."
   ]
  },
  {
   "cell_type": "markdown",
   "id": "220fcda8",
   "metadata": {},
   "source": [
    "## 10. Resultados finales\n",
    "\n",
    "Mostramos el resumen de tiempos y precisión."
   ]
  },
  {
   "cell_type": "code",
   "execution_count": 9,
   "id": "836e661f",
   "metadata": {},
   "outputs": [
    {
     "name": "stdout",
     "output_type": "stream",
     "text": [
      "-------------------------------\n",
      "Resultados\n",
      "-------------------------------\n",
      "Muestras de entrenamiento:  5000\n",
      "Tiempo de entrenamiento:  0.02  s\n",
      "Muestras de prueba:  10000\n",
      "Tiempo de prueba:  0  s\n",
      "Precisión en prueba:  93.39 %\n"
     ]
    }
   ],
   "source": [
    "# Mostrar resultados finales\n",
    "print(\"-------------------------------\")\n",
    "print(\"Resultados\")\n",
    "print(\"-------------------------------\")\n",
    "print(\"Muestras de entrenamiento: \", muestras_entrenamiento)\n",
    "print(\"Tiempo de entrenamiento: \", round(tiempo_entrenamiento, 2), \" s\")\n",
    "print(\"Muestras de prueba: \", muestras_prueba)\n",
    "print(\"Tiempo de prueba: \", round(tiempo_prueba, 2), \" s\")\n",
    "print(\"Precisión en prueba: \", round(precision * 100, 2), \"%\")"
   ]
  },
  {
   "cell_type": "code",
   "execution_count": 10,
   "id": "3625a8c7",
   "metadata": {},
   "outputs": [
    {
     "name": "stdout",
     "output_type": "stream",
     "text": [
      "   Índice  Número Real  Número Predicho\n",
      "0    3111            7                7\n",
      "1    8793            2                2\n",
      "2    7970            6                6\n",
      "3    5531            0                0\n",
      "4    7588            9                9\n",
      "5    4523            8                8\n",
      "6    1674            1                1\n",
      "7     295            4                4\n",
      "8    2923            9                9\n",
      "9    2994            6                6\n"
     ]
    }
   ],
   "source": [
    "# Seleccionar 10 índices aleatorios de la lista de prueba\n",
    "indices_aleatorios = np.random.choice(len(x_prueba), 10, replace=False)\n",
    "\n",
    "# Obtener los valores reales y predichos\n",
    "numeros_reales = y_prueba[indices_aleatorios]\n",
    "numeros_predichos = knn.predict(x_prueba[indices_aleatorios])\n",
    "\n",
    "# Crear la tabla con pandas\n",
    "tabla_resultados = pd.DataFrame({\n",
    "    'Índice': indices_aleatorios,\n",
    "    'Número Real': numeros_reales,\n",
    "    'Número Predicho': numeros_predichos\n",
    "})\n",
    "\n",
    "print(tabla_resultados)"
   ]
  }
 ],
 "metadata": {
  "kernelspec": {
   "display_name": "Python 3",
   "language": "python",
   "name": "python3"
  },
  "language_info": {
   "codemirror_mode": {
    "name": "ipython",
    "version": 3
   },
   "file_extension": ".py",
   "mimetype": "text/x-python",
   "name": "python",
   "nbconvert_exporter": "python",
   "pygments_lexer": "ipython3",
   "version": "3.12.4"
  }
 },
 "nbformat": 4,
 "nbformat_minor": 5
}
